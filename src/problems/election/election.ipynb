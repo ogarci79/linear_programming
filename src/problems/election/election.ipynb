{
 "cells": [
  {
   "cell_type": "raw",
   "metadata": {},
   "source": [
    "    Policy              Demographic (Votes obtained per dollar spent)\n",
    "                               Urban    Suburban    Rural\n",
    "x1 Build Roads                  -2         5          3\n",
    "x2 Gun Control                   8         2         -5\n",
    "x3 Farm Subsidies                0         0         10\n",
    "x4 Gasoline tax                  10        0          2\n",
    "Population                    100,000   200,000    50,000\n",
    "Min # votes                   50,000    100,000    25,000\n",
    " \n",
    "Minimize $ spent per issue\n",
    "    x1+x2+x3+x4  \n",
    "Subject to\n",
    "    -2x1+8x2+0x3+10x4 >= 50000\n",
    "    5x1+2x2+0x3+0x4 >= 100000\n",
    "    3x1-5x2+10x3-2x4 >= 25000\n"
   ]
  },
  {
   "cell_type": "code",
   "execution_count": 1,
   "metadata": {},
   "outputs": [],
   "source": [
    "import numpy as np\n",
    "import pulp\n",
    "%matplotlib inline\n",
    "import matplotlib.pyplot as plt\n",
    "\n",
    "def place_value(number): \n",
    "    return (\"{:,}\".format(number))\n",
    "\n",
    "election = pulp.LpProblem(\"Election\", pulp.LpMinimize)\n",
    "\n",
    "x1 = pulp.LpVariable('x1', lowBound=0, cat='Continuous')\n",
    "x2 = pulp.LpVariable('x2', lowBound=0, cat='Continuous')\n",
    "x3 = pulp.LpVariable('x3', lowBound=0, cat='Continuous')\n",
    "x4 = pulp.LpVariable('x4', lowBound=0, cat='Continuous')"
   ]
  },
  {
   "cell_type": "code",
   "execution_count": 2,
   "metadata": {},
   "outputs": [],
   "source": [
    "# Objective Function\n",
    "election += x1+x2+x3+x4, \"E\"\n",
    "\n",
    "# Constraints\n",
    "election += -2*x1+8*x2+0*x3+10*x4 >= 50000\n",
    "election += 5*x1+2*x2+0*x3+0*x4 >= 100000\n",
    "election += 3*x1-5*x2+10*x3-2*x4 >= 25000"
   ]
  },
  {
   "cell_type": "code",
   "execution_count": 3,
   "metadata": {},
   "outputs": [
    {
     "name": "stdout",
     "output_type": "stream",
     "text": [
      "Optimal\n"
     ]
    }
   ],
   "source": [
    "election.solve()\n",
    "print(pulp.LpStatus[election.status])"
   ]
  },
  {
   "cell_type": "code",
   "execution_count": 4,
   "metadata": {},
   "outputs": [
    {
     "name": "stdout",
     "output_type": "stream",
     "text": [
      "x1 = 18,468.468\n",
      "x2 = 3,828.8288\n",
      "x3 = 0.0\n",
      "x4 = 5,630.6306\n"
     ]
    }
   ],
   "source": [
    "for var in election.variables():\n",
    "    print(var.name + \" = \" + str(place_value(var.varValue)))"
   ]
  },
  {
   "cell_type": "code",
   "execution_count": 5,
   "metadata": {},
   "outputs": [
    {
     "name": "stdout",
     "output_type": "stream",
     "text": [
      "C1: 50,000\n",
      "C2: 100,000\n",
      "C3: 25,000\n"
     ]
    }
   ],
   "source": [
    "print(\"C1: \" + str(place_value(round(-2*election.variables()[0].varValue + 8*election.variables()[1].varValue \n",
    "    + 0*election.variables()[2].varValue + 10*election.variables()[3].varValue))))\n",
    "print(\"C2: \" + str(place_value(round(5*election.variables()[0].varValue + 2*election.variables()[1].varValue \n",
    "    + 0*election.variables()[2].varValue + 0*election.variables()[3].varValue))))\n",
    "print(\"C3: \" + str(place_value(round(3*election.variables()[0].varValue - 5*election.variables()[1].varValue \n",
    "    + 10*election.variables()[2].varValue - 2*election.variables()[3].varValue))))"
   ]
  },
  {
   "cell_type": "code",
   "execution_count": 6,
   "metadata": {},
   "outputs": [
    {
     "name": "stdout",
     "output_type": "stream",
     "text": [
      "27,927.9274\n"
     ]
    }
   ],
   "source": [
    "print(place_value(pulp.value(election.objective)))"
   ]
  }
 ],
 "metadata": {
  "kernelspec": {
   "display_name": "Python 3",
   "language": "python",
   "name": "python3"
  },
  "language_info": {
   "codemirror_mode": {
    "name": "ipython",
    "version": 3
   },
   "file_extension": ".py",
   "mimetype": "text/x-python",
   "name": "python",
   "nbconvert_exporter": "python",
   "pygments_lexer": "ipython3",
   "version": "3.5.2"
  }
 },
 "nbformat": 4,
 "nbformat_minor": 2
}
