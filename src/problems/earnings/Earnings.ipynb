{
 "cells": [
  {
   "cell_type": "raw",
   "metadata": {},
   "source": [
    "  Kayla works no more than 20 hours per\n",
    "  week during the school year.  She is \n",
    "  paid $10 an hour for turoring Geometry\n",
    "  students and $7 an hour for babysitting.\n",
    "  She wants to spend at least 3 hour but\n",
    "  no more than 8 hours a week tutoring.\n",
    "  Find Kayla's maximum weekly earnings\n",
    "  \n",
    "  t = # of hrs spent tutoring\n",
    "  b = # of hrs spent babysitting\n",
    "  \n",
    "  Earnings\n",
    "  E = 10t + 7b\n",
    "  \n",
    "  Constraints\n",
    "  t >= 3\n",
    "  t <= 8\n",
    "  b >= 0\n",
    "  t + b <= 20\n",
    "  "
   ]
  },
  {
   "cell_type": "code",
   "execution_count": 1,
   "metadata": {},
   "outputs": [],
   "source": [
    "import numpy as np\n",
    "import pulp\n",
    "%matplotlib inline\n",
    "import matplotlib.pyplot as plt\n",
    "\n",
    "earnings = pulp.LpProblem(\"Earnings\", pulp.LpMaximize)\n",
    "\n",
    "t = pulp.LpVariable('t', lowBound=3, cat='Continuous')\n",
    "b = pulp.LpVariable('b', lowBound=0, cat='Continuous')"
   ]
  },
  {
   "cell_type": "code",
   "execution_count": 2,
   "metadata": {},
   "outputs": [],
   "source": [
    "# Objective Function\n",
    "earnings += 10*t + 7*b, \"E\"\n",
    "\n",
    "# Constraints\n",
    "earnings += t >= 3\n",
    "earnings += t <= 8\n",
    "earnings += b >= 0\n",
    "earnings += t + b <= 20"
   ]
  },
  {
   "cell_type": "code",
   "execution_count": 3,
   "metadata": {},
   "outputs": [
    {
     "name": "stdout",
     "output_type": "stream",
     "text": [
      "Earnings:\n",
      "MAXIMIZE\n",
      "7*b + 10*t + 0\n",
      "SUBJECT TO\n",
      "_C1: t >= 3\n",
      "\n",
      "_C2: t <= 8\n",
      "\n",
      "_C3: b >= 0\n",
      "\n",
      "_C4: b + t <= 20\n",
      "\n",
      "VARIABLES\n",
      "b Continuous\n",
      "3 <= t Continuous\n",
      "\n"
     ]
    }
   ],
   "source": [
    "print(earnings)"
   ]
  },
  {
   "cell_type": "code",
   "execution_count": 9,
   "metadata": {},
   "outputs": [
    {
     "data": {
      "text/plain": [
       "<matplotlib.legend.Legend at 0x7f1bd49739e8>"
      ]
     },
     "execution_count": 9,
     "metadata": {},
     "output_type": "execute_result"
    },
    {
     "data": {
      "image/png": "[encoded data removed]",
      "text/plain": [
       "<Figure size 432x288 with 1 Axes>"
      ]
     },
     "metadata": {
      "needs_background": "light"
     },
     "output_type": "display_data"
    }
   ],
   "source": [
    "# Construct lines\n",
    "# t >= 0\n",
    "x = np.linspace(0, 50, 500)\n",
    "t1 = x*0 + 3\n",
    "t2 = x*0 + 8\n",
    "# b >= 0\n",
    "b1 = x*0\n",
    "# t + b <= 20\n",
    "y1 = -x + 20\n",
    "\n",
    "\n",
    "# Make plot\n",
    "plt.plot(t1, x, label=r'$t\\geq3$')\n",
    "plt.plot(t2, x, label=r'$t\\leq8$')\n",
    "plt.plot(x, b1, label=r'$b \\geq 0$')\n",
    "plt.plot(x, y1, label=r'$t + b \\leq 20$')\n",
    "plt.xlim((-2, 12))\n",
    "plt.ylim((-2, 22))\n",
    "plt.xlabel(r'$t$')\n",
    "plt.ylabel(r'$b$')\n",
    "\n",
    "# Fill feasible region\n",
    "plt.fill_between(np.linspace(3,8,500), b1, (20 - np.linspace(3,8,500)), color='grey', alpha=0.5)\n",
    "plt.legend(bbox_to_anchor=(1.05, 1), loc=2, borderaxespad=0.)"
   ]
  },
  {
   "cell_type": "code",
   "execution_count": 5,
   "metadata": {},
   "outputs": [
    {
     "name": "stdout",
     "output_type": "stream",
     "text": [
      "Optimal\n"
     ]
    }
   ],
   "source": [
    "earnings.solve()\n",
    "print(pulp.LpStatus[earnings.status])"
   ]
  },
  {
   "cell_type": "code",
   "execution_count": 6,
   "metadata": {},
   "outputs": [
    {
     "name": "stdout",
     "output_type": "stream",
     "text": [
      "b = 12.0\n",
      "t = 8.0\n"
     ]
    }
   ],
   "source": [
    "for var in earnings.variables():\n",
    "    print(var.name + \" = \" + str(var.varValue))"
   ]
  },
  {
   "cell_type": "code",
   "execution_count": 7,
   "metadata": {},
   "outputs": [
    {
     "name": "stdout",
     "output_type": "stream",
     "text": [
      "164.0\n"
     ]
    }
   ],
   "source": [
    "print(pulp.value(earnings.objective))"
   ]
  }
 ],
 "metadata": {
  "kernelspec": {
   "display_name": "Python 3",
   "language": "python",
   "name": "python3"
  },
  "language_info": {
   "codemirror_mode": {
    "name": "ipython",
    "version": 3
   },
   "file_extension": ".py",
   "mimetype": "text/x-python",
   "name": "python",
   "nbconvert_exporter": "python",
   "pygments_lexer": "ipython3",
   "version": "3.5.2"
  }
 },
 "nbformat": 4,
 "nbformat_minor": 2
}
