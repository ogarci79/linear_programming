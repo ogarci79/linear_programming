{
 "cells": [
  {
   "cell_type": "raw",
   "metadata": {},
   "source": [
    "The West Hartford Senior Center is trying to establish a transportation system of small and large vans.  \n",
    "It can spend no more than $100,000 for both sizes of vehicles and no more than $500 per month for maintenance.\n",
    "The WHSC can purchase a small van, which carries up to 7 passengers, for $10,000 and maintain it for $100\n",
    "per month.  the large vans, which carry up to 15 passengers, cost $20,000 each and can be maintained for \n",
    "$75 per month.  How many of each type of van should they purchase if they want to maximize the number of \n",
    "passengers?\n",
    "\n",
    "    s = # of small vans\n",
    "    l = # of large vans\n",
    "\n",
    "    Maximize # of passengers\n",
    "    P = 7s + 15l\n",
    "    \n",
    "    Constraints\n",
    "    s >= 0\n",
    "    l >= 0\n",
    "    10,000s + 20,000l <= 100,000  # Initial Purchase Cost\n",
    "    100s + 75l <= 500             # Monthly Maintenance Cost\n",
    "    \n",
    "    "
   ]
  },
  {
   "cell_type": "code",
   "execution_count": 3,
   "metadata": {},
   "outputs": [],
   "source": [
    "# Define the Problem and Variables\n",
    "import pulp\n",
    "import matplotlib.\n",
    "\n",
    "transportation_problem = pulp.LpProblem(\"Transportation Problem\", pulp.LpMaximize)\n",
    "\n",
    "s = pulp.LpVariable('s', lowBound=0, cat='Integer')\n",
    "l = pulp.LpVariable('l', lowBound=0, cat='Integer')"
   ]
  },
  {
   "cell_type": "code",
   "execution_count": 4,
   "metadata": {},
   "outputs": [],
   "source": [
    "# Objective Function\n",
    "transportation_problem += 7*s + 15*l, \"P\"\n",
    "\n",
    "# Constraints\n",
    "transportation_problem += 10000*s + 20000*l <= 100000\n",
    "transportation_problem += 100*s + 75*l <= 500"
   ]
  },
  {
   "cell_type": "code",
   "execution_count": 7,
   "metadata": {},
   "outputs": [
    {
     "name": "stdout",
     "output_type": "stream",
     "text": [
      "Transportation Problem:\n",
      "MAXIMIZE\n",
      "15*l + 7*s + 0\n",
      "SUBJECT TO\n",
      "_C1: 20000 l + 10000 s <= 100000\n",
      "\n",
      "_C2: 75 l + 100 s <= 500\n",
      "\n",
      "VARIABLES\n",
      "0 <= l Integer\n",
      "0 <= s Integer\n",
      "\n"
     ]
    }
   ],
   "source": [
    "print(transportation_problem)"
   ]
  },
  {
   "cell_type": "code",
   "execution_count": null,
   "metadata": {},
   "outputs": [],
   "source": []
  },
  {
   "cell_type": "code",
   "execution_count": 10,
   "metadata": {},
   "outputs": [
    {
     "name": "stdout",
     "output_type": "stream",
     "text": [
      "Optimal\n"
     ]
    }
   ],
   "source": [
    "transportation_problem.solve()\n",
    "print(pulp.LpStatus[transportation_problem.status])"
   ]
  },
  {
   "cell_type": "code",
   "execution_count": 12,
   "metadata": {},
   "outputs": [
    {
     "name": "stdout",
     "output_type": "stream",
     "text": [
      "l = 5.0\n",
      "s = 0.0\n"
     ]
    }
   ],
   "source": [
    "for var in transportation_problem.variables():\n",
    "    print(var.name + \" = \" + str(var.varValue))"
   ]
  },
  {
   "cell_type": "code",
   "execution_count": 14,
   "metadata": {},
   "outputs": [
    {
     "name": "stdout",
     "output_type": "stream",
     "text": [
      "75.0\n"
     ]
    }
   ],
   "source": [
    "print(pulp.value(transportation_problem.objective))"
   ]
  }
 ],
 "metadata": {
  "kernelspec": {
   "display_name": "Python 3",
   "language": "python",
   "name": "python3"
  },
  "language_info": {
   "codemirror_mode": {
    "name": "ipython",
    "version": 3
   },
   "file_extension": ".py",
   "mimetype": "text/x-python",
   "name": "python",
   "nbconvert_exporter": "python",
   "pygments_lexer": "ipython3",
   "version": "3.5.2"
  }
 },
 "nbformat": 4,
 "nbformat_minor": 2
}
