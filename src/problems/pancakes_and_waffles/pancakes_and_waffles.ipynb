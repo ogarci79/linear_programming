{
 "cells": [
  {
   "cell_type": "raw",
   "metadata": {},
   "source": [
    " Pancakes               Waffles\n",
    "  3 cups Bisquick          2 cups Bisquick\n",
    "  1 cup Milk               2 cups Milk\n",
    "  2 Eggs                   2 Eggs\n",
    "  Serves 6                 Serves 5\n",
    "\n",
    " You have 24 cups of Bisquick, 18 cups of milk, and 20\n",
    " eggs.  If you want to feed as many people as \n",
    " possible, how many batches of each should you make?\n",
    " \n",
    " p = # of batches of pancakes\n",
    " w = # of batches of waffles\n",
    " \n",
    " Servings\n",
    " S = 6p + 5w\n",
    " \n",
    " p >= 0\n",
    " w >= 0\n",
    " 3p + 2w <= 24\n",
    " p + 2w <= 18\n",
    " 2p + 2w <= 20\n",
    " "
   ]
  },
  {
   "cell_type": "code",
   "execution_count": 6,
   "metadata": {},
   "outputs": [],
   "source": [
    "import numpy as np\n",
    "import pulp\n",
    "%matplotlib inline\n",
    "import matplotlib.pyplot as plt\n",
    "\n",
    "pandw = pulp.LpProblem(\"Pancakes and Waffles\", pulp.LpMaximize)\n",
    "\n",
    "p = pulp.LpVariable('p', lowBound=0, cat='Integer')\n",
    "w = pulp.LpVariable('w', lowBound=0, cat='Integer')"
   ]
  },
  {
   "cell_type": "code",
   "execution_count": 7,
   "metadata": {},
   "outputs": [],
   "source": [
    "# Objective Function\n",
    "pandw += 6*p + 5*w, \"S\"\n",
    "\n",
    "# Constraints\n",
    "pandw += 3*p + 2*w <= 24\n",
    "pandw += p + 2*w <= 18\n",
    "pandw += 2*p + 2*w <= 20"
   ]
  },
  {
   "cell_type": "code",
   "execution_count": 9,
   "metadata": {},
   "outputs": [
    {
     "name": "stdout",
     "output_type": "stream",
     "text": [
      "Pancakes and Waffles:\n",
      "MAXIMIZE\n",
      "6*p + 5*w + 0\n",
      "SUBJECT TO\n",
      "_C1: 3 p + 2 w <= 24\n",
      "\n",
      "_C2: p + 2 w <= 18\n",
      "\n",
      "_C3: 2 p + 2 w <= 20\n",
      "\n",
      "VARIABLES\n",
      "0 <= p Integer\n",
      "0 <= w Integer\n",
      "\n"
     ]
    }
   ],
   "source": [
    "print(pandw)"
   ]
  },
  {
   "cell_type": "code",
   "execution_count": 51,
   "metadata": {},
   "outputs": [
    {
     "data": {
      "text/plain": [
       "<matplotlib.legend.Legend at 0x7fdb2f5254a8>"
      ]
     },
     "execution_count": 51,
     "metadata": {},
     "output_type": "execute_result"
    },
    {
     "data": {
      "image/png": "[encoded data removed]",
      "text/plain": [
       "<Figure size 432x288 with 1 Axes>"
      ]
     },
     "metadata": {
      "needs_background": "light"
     },
     "output_type": "display_data"
    }
   ],
   "source": [
    "# Construct lines\n",
    "# s >= 0\n",
    "x = np.linspace(0, 15, 50)\n",
    "p = x*0\n",
    "# l >= 0\n",
    "w = x*0\n",
    "# 3*p + 2*w <= 24\n",
    "y1 = (-3/2)*x + 24/2\n",
    "# p + 2*w <= 18 \n",
    "y2 = -1/2*x + 18/2\n",
    "# 2*p + 2*w <= 20 \n",
    "y3 = -2/2*x + 20/2\n",
    "\n",
    "# Make plot\n",
    "plt.plot(x, p, label=r'$p\\geq0$')\n",
    "plt.plot(w, x, label=r'$w\\geq0$')\n",
    "plt.plot(x, y1, label=r'$3p + 2w \\leq 24$')\n",
    "plt.plot(x, y2, label=r'$p + 2w \\leq 18$')\n",
    "plt.plot(x, y3, label=r'$2p + 2w \\leq 20$')\n",
    "plt.xlim((-2, 10))\n",
    "plt.ylim((-2, 12))\n",
    "plt.xlabel(r'$p$')\n",
    "plt.ylabel(r'$w$')\n",
    "\n",
    "# Fill feasible region\n",
    "y4 = np.minimum(w, p)\n",
    "y5 = np.minimum(y2,y3)\n",
    "y6 = np.minimum(y5,y1)\n",
    "plt.fill_between(x, w, y6, where=p<y1, color='grey', alpha=0.5)\n",
    "plt.legend(bbox_to_anchor=(1.05, 1), loc=2, borderaxespad=0.)"
   ]
  },
  {
   "cell_type": "code",
   "execution_count": 12,
   "metadata": {},
   "outputs": [
    {
     "name": "stdout",
     "output_type": "stream",
     "text": [
      "Optimal\n"
     ]
    }
   ],
   "source": [
    "pandw.solve()\n",
    "print(pulp.LpStatus[pandw.status])"
   ]
  },
  {
   "cell_type": "code",
   "execution_count": 13,
   "metadata": {},
   "outputs": [
    {
     "name": "stdout",
     "output_type": "stream",
     "text": [
      "p = 4.0\n",
      "w = 6.0\n"
     ]
    }
   ],
   "source": [
    "for var in pandw.variables():\n",
    "    print(var.name + \" = \" + str(var.varValue))"
   ]
  },
  {
   "cell_type": "code",
   "execution_count": 14,
   "metadata": {},
   "outputs": [
    {
     "name": "stdout",
     "output_type": "stream",
     "text": [
      "54.0\n"
     ]
    }
   ],
   "source": [
    "print(pulp.value(pandw.objective))"
   ]
  }
 ],
 "metadata": {
  "kernelspec": {
   "display_name": "Python 3",
   "language": "python",
   "name": "python3"
  },
  "language_info": {
   "codemirror_mode": {
    "name": "ipython",
    "version": 3
   },
   "file_extension": ".py",
   "mimetype": "text/x-python",
   "name": "python",
   "nbconvert_exporter": "python",
   "pygments_lexer": "ipython3",
   "version": "3.5.2"
  }
 },
 "nbformat": 4,
 "nbformat_minor": 2
}
