{
 "cells": [
  {
   "cell_type": "markdown",
   "metadata": {},
   "source": [
    "# Diet and Cost Minimization Calculator\n",
    ">    This calculator will minimize the cost given a set of food [variables] and constraints on those variables.  "
   ]
  },
  {
   "cell_type": "markdown",
   "metadata": {},
   "source": [
    "## Table of Available Foods:"
   ]
  },
  {
   "cell_type": "markdown",
   "metadata": {},
   "source": [
    "<style type=\"text/css\">\n",
    ".tg  {border-collapse:collapse;border-spacing:0;border-color:#ccc;margin:0px auto;}\n",
    ".tg td{font-family:Arial, sans-serif;font-size:14px;padding:10px 5px;border-style:solid;border-width:0px;overflow:hidden;word-break:normal;border-color:#ccc;color:#333;background-color:#fff;}\n",
    ".tg th{font-family:Arial, sans-serif;font-size:14px;font-weight:normal;padding:10px 5px;border-style:solid;border-width:0px;overflow:hidden;word-break:normal;border-color:#ccc;color:#333;background-color:#f0f0f0;}\n",
    ".tg .tg-xklw{font-weight:bold;font-family:\"Times New Roman\", Times, serif !important;;border-color:inherit;text-align:center}\n",
    ".tg .tg-s6z2{text-align:center}\n",
    ".tg .tg-n603{font-family:\"Times New Roman\", Times, serif !important;;border-color:inherit;text-align:center}\n",
    ".tg .tg-ojqw{font-family:\"Times New Roman\", Times, serif !important;;background-color:#ffffff;border-color:inherit;text-align:center}\n",
    "</style>\n",
    "<table class=\"tg\">\n",
    "  <tr>\n",
    "    <th class=\"tg-xklw\">Categories</th>\n",
    "    <th class=\"tg-xklw\">Items</th>\n",
    "    <th class=\"tg-xklw\"> Carbohydrates (g)</th>\n",
    "    <th class=\"tg-xklw\">Protein (g)</th>\n",
    "    <th class=\"tg-xklw\">Fat (g)</th>\n",
    "    <th class=\"tg-xklw\">Calories</th>\n",
    "    <th class=\"tg-xklw\">Serving</th>\n",
    "    <th class=\"tg-xklw\">Cost ($/Serving)</th>\n",
    "  </tr>\n",
    "  <tr>\n",
    "    <td class=\"tg-ojqw\" rowspan=\"5\">Vegetables</td>\n",
    "    <td class=\"tg-n603\">Grean Beans</td>\n",
    "    <td class=\"tg-n603\">3</td>\n",
    "    <td class=\"tg-n603\">1</td>\n",
    "    <td class=\"tg-n603\">0</td>\n",
    "    <td class=\"tg-n603\">20</td>\n",
    "    <td class=\"tg-n603\">121g=1/2cup</td>\n",
    "    <td class=\"tg-n603\">0.38</td>\n",
    "  </tr>\n",
    "  <tr>\n",
    "    <td class=\"tg-n603\">Broccoli</td>\n",
    "    <td class=\"tg-n603\">4</td>\n",
    "    <td class=\"tg-n603\">1</td>\n",
    "    <td class=\"tg-n603\">0</td>\n",
    "    <td class=\"tg-n603\">25</td>\n",
    "    <td class=\"tg-n603\">3oz=1cup</td>\n",
    "    <td class=\"tg-n603\">0.27</td>\n",
    "  </tr>\n",
    "  <tr>\n",
    "    <td class=\"tg-n603\">Corn</td>\n",
    "    <td class=\"tg-n603\">11</td>\n",
    "    <td class=\"tg-n603\">2</td>\n",
    "    <td class=\"tg-n603\">1</td>\n",
    "    <td class=\"tg-n603\">60</td>\n",
    "    <td class=\"tg-n603\">4oz=1/2cup</td>\n",
    "    <td class=\"tg-n603\">0.36</td>\n",
    "  </tr>\n",
    "  <tr>\n",
    "    <td class=\"tg-n603\">Refried Beans</td>\n",
    "    <td class=\"tg-n603\">18</td>\n",
    "    <td class=\"tg-n603\">6</td>\n",
    "    <td class=\"tg-n603\">3</td>\n",
    "    <td class=\"tg-n603\">120</td>\n",
    "    <td class=\"tg-n603\">4oz</td>\n",
    "    <td class=\"tg-n603\">0.24</td>\n",
    "  </tr>\n",
    "  <tr>\n",
    "    <td class=\"tg-n603\">Brown Rice</td>\n",
    "    <td class=\"tg-n603\">140</td>\n",
    "    <td class=\"tg-n603\">16</td>\n",
    "    <td class=\"tg-n603\">6</td>\n",
    "    <td class=\"tg-n603\">640</td>\n",
    "    <td class=\"tg-n603\">180g=1cup</td>\n",
    "    <td class=\"tg-n603\">0.27</td>\n",
    "  </tr>\n",
    "  <tr>\n",
    "    <td class=\"tg-n603\" rowspan=\"4\">Meat</td>\n",
    "    <td class=\"tg-n603\">Chicken</td>\n",
    "    <td class=\"tg-n603\">0</td>\n",
    "    <td class=\"tg-n603\">19</td>\n",
    "    <td class=\"tg-n603\">8</td>\n",
    "    <td class=\"tg-n603\">150</td>\n",
    "    <td class=\"tg-n603\">4oz</td>\n",
    "    <td class=\"tg-n603\">0.77</td>\n",
    "  </tr>\n",
    "  <tr>\n",
    "    <td class=\"tg-n603\">Ground Beef</td>\n",
    "    <td class=\"tg-n603\">0</td>\n",
    "    <td class=\"tg-n603\">22</td>\n",
    "    <td class=\"tg-n603\">14</td>\n",
    "    <td class=\"tg-n603\">210</td>\n",
    "    <td class=\"tg-n603\">4oz</td>\n",
    "    <td class=\"tg-n603\">1.00</td>\n",
    "  </tr>\n",
    "  <tr>\n",
    "    <td class=\"tg-n603\">Eggs</td>\n",
    "    <td class=\"tg-n603\">0</td>\n",
    "    <td class=\"tg-n603\">6</td>\n",
    "    <td class=\"tg-n603\">5</td>\n",
    "    <td class=\"tg-n603\">70</td>\n",
    "    <td class=\"tg-n603\">1egg</td>\n",
    "    <td class=\"tg-n603\">0.13</td>\n",
    "  </tr>\n",
    "  <tr>\n",
    "    <td class=\"tg-n603\">Whey</td>\n",
    "    <td class=\"tg-n603\">2</td>\n",
    "    <td class=\"tg-n603\">24</td>\n",
    "    <td class=\"tg-n603\">1</td>\n",
    "    <td class=\"tg-n603\">110</td>\n",
    "    <td class=\"tg-n603\">1 scoop</td>\n",
    "    <td class=\"tg-n603\">0.75</td>\n",
    "  </tr>\n",
    "  <tr>\n",
    "    <td class=\"tg-ojqw\" rowspan=\"7\">Dessert</td>\n",
    "    <td class=\"tg-n603\">Orange</td>\n",
    "    <td class=\"tg-n603\">15</td>\n",
    "    <td class=\"tg-n603\">1</td>\n",
    "    <td class=\"tg-n603\">0</td>\n",
    "    <td class=\"tg-n603\">62</td>\n",
    "    <td class=\"tg-n603\">1 orange</td>\n",
    "    <td class=\"tg-n603\">0.88</td>\n",
    "  </tr>\n",
    "  <tr>\n",
    "    <td class=\"tg-n603\">Apple</td>\n",
    "    <td class=\"tg-n603\">15</td>\n",
    "    <td class=\"tg-n603\">0</td>\n",
    "    <td class=\"tg-n603\">0</td>\n",
    "    <td class=\"tg-n603\">63</td>\n",
    "    <td class=\"tg-n603\">1 apple</td>\n",
    "    <td class=\"tg-n603\">0.22</td>\n",
    "  </tr>\n",
    "  <tr>\n",
    "    <td class=\"tg-n603\">Beer</td>\n",
    "    <td class=\"tg-n603\">7</td>\n",
    "    <td class=\"tg-n603\">1</td>\n",
    "    <td class=\"tg-n603\">0</td>\n",
    "    <td class=\"tg-n603\">110</td>\n",
    "    <td class=\"tg-n603\">12oz</td>\n",
    "    <td class=\"tg-n603\">0.83</td>\n",
    "  </tr>\n",
    "  <tr>\n",
    "    <td class=\"tg-n603\">Cheese</td>\n",
    "    <td class=\"tg-n603\">1</td>\n",
    "    <td class=\"tg-n603\">7</td>\n",
    "    <td class=\"tg-n603\">9</td>\n",
    "    <td class=\"tg-n603\">111</td>\n",
    "    <td class=\"tg-n603\">1oz</td>\n",
    "    <td class=\"tg-n603\">0.27</td>\n",
    "  </tr>\n",
    "  <tr>\n",
    "    <td class=\"tg-ojqw\">Coke</td>\n",
    "    <td class=\"tg-n603\">0</td>\n",
    "    <td class=\"tg-n603\">0</td>\n",
    "    <td class=\"tg-n603\">0</td>\n",
    "    <td class=\"tg-n603\">0</td>\n",
    "    <td class=\"tg-n603\">12oz</td>\n",
    "    <td class=\"tg-n603\">0.36</td>\n",
    "  </tr>\n",
    "  <tr>\n",
    "    <td class=\"tg-s6z2\">Mixed Nuts</td>\n",
    "    <td class=\"tg-s6z2\">5</td>\n",
    "    <td class=\"tg-s6z2\">6</td>\n",
    "    <td class=\"tg-s6z2\">15</td>\n",
    "    <td class=\"tg-s6z2\">170</td>\n",
    "    <td class=\"tg-s6z2\">1oz</td>\n",
    "    <td class=\"tg-s6z2\">0.43</td>\n",
    "  </tr>\n",
    "  <tr>\n",
    "    <td class=\"tg-s6z2\">Coconut OIl</td>\n",
    "    <td class=\"tg-s6z2\">0</td>\n",
    "    <td class=\"tg-s6z2\">0</td>\n",
    "    <td class=\"tg-s6z2\">14</td>\n",
    "    <td class=\"tg-s6z2\">120</td>\n",
    "    <td class=\"tg-s6z2\">1tbsp</td>\n",
    "    <td class=\"tg-s6z2\">0.10</td>\n",
    "  </tr>\n",
    "</table>"
   ]
  },
  {
   "cell_type": "markdown",
   "metadata": {},
   "source": [
    "                                                                       https://www.tablesgenerator.com/html_tables#"
   ]
  },
  {
   "cell_type": "markdown",
   "metadata": {},
   "source": [
    ">   We are going to use the above table, nutrition values, cost and Python to minimize cost given our constraints"
   ]
  },
  {
   "cell_type": "markdown",
   "metadata": {},
   "source": [
    "## Initialize our Linear Program"
   ]
  },
  {
   "cell_type": "code",
   "execution_count": 1,
   "metadata": {},
   "outputs": [],
   "source": [
    "import numpy as np\n",
    "import pulp\n",
    "\n",
    "diet = pulp.LpProblem(\"Diet\", pulp.LpMinimize)\n",
    "\n",
    "carb={'Green_Beans':3,'Broccoli':4,'Corn':11,'Refried_Beans':18,'Brown_Rice':140,'Chicken':0,'Ground_Beef':0,\n",
    "      'Eggs':0,'Whey':2,'Orange':15,'Apple':15,'Beer':7,'Cheese':1,'Coke':0,'Mixed_Nuts':5,'Coconut_Oil':0}\n",
    "protein={'Green_Beans':1,'Broccoli':1,'Corn':2,'Refried_Beans':6,'Brown_Rice':16,'Chicken':19,'Ground_Beef':22,\n",
    "      'Eggs':6,'Whey':24,'Orange':1,'Apple':0,'Beer':1,'Cheese':7,'Coke':0,'Mixed_Nuts':6,'Coconut_Oil':0}\n",
    "fat={'Green_Beans':0,'Broccoli':0,'Corn':1,'Refried_Beans':3,'Brown_Rice':6,'Chicken':8,'Ground_Beef':14,\n",
    "      'Eggs':5,'Whey':1,'Orange':0,'Apple':0,'Beer':0,'Cheese':9,'Coke':0,'Mixed_Nuts':15,'Coconut_Oil':14}\n",
    "cal={'Green_Beans':20,'Broccoli':25,'Corn':60,'Refried_Beans':120,'Brown_Rice':640,'Chicken':150,'Ground_Beef':210,\n",
    "      'Eggs':70,'Whey':110,'Orange':62,'Apple':63,'Beer':110,'Cheese':111,'Coke':0,'Mixed_Nuts':170,'Coconut_Oil':120}\n",
    "cost={'Green_Beans':0.38,'Broccoli':0.27,'Corn':0.36,'Refried_Beans':0.24,'Brown_Rice':0.27,'Chicken':0.77,'Ground_Beef':1.00,\n",
    "      'Eggs':0.13,'Whey':0.63,'Orange':0.88,'Apple':0.22,'Beer':0.83,'Cheese':0.27,'Coke':0.36,'Mixed_Nuts':0.43,'Coconut_Oil':0.10}\n",
    "serv={'Green_Beans':'121g=1/2cup','Broccoli':'3oz=1cup','Corn':'4oz=1/2cup','Refried_Beans':'4oz','Brown_Rice':'180g=1cup(dry)',\n",
    "      'Chicken':'4oz','Ground_Beef':'4oz','Eggs':'1 egg','Whey':'1 scoop','Orange':'1 orange','Apple':'1 apple','Beer':'12oz',\n",
    "      'Cheese':'1oz','Coke':'12oz','Mixed_Nuts':'1oz','Coconut_Oil':'1 tbsp'}"
   ]
  },
  {
   "cell_type": "markdown",
   "metadata": {},
   "source": [
    "## Assumptions:\n",
    ">    We want a 2000 Calorie per day diet:\n",
    ">\n",
    ">         Calories = 2000\n",
    "\n",
    ">    And:\n",
    ">\n",
    ">         Carbs = 4 Calories per gram\n",
    "        Protein = 4 Calories per gram\n",
    "        Fat = 9 Calories per gram"
   ]
  },
  {
   "cell_type": "markdown",
   "metadata": {},
   "source": [
    "## Define our variables"
   ]
  },
  {
   "cell_type": "code",
   "execution_count": 2,
   "metadata": {},
   "outputs": [],
   "source": [
    "v1 = pulp.LpVariable('Green_Beans', lowBound=0, cat='Integer')\n",
    "v2 = pulp.LpVariable('Broccoli', lowBound=0, cat='Integer')\n",
    "v3 = pulp.LpVariable('Corn', lowBound=0, cat='Integer')\n",
    "v4 = pulp.LpVariable('Refried_Beans', lowBound=0, cat='Integer')\n",
    "v5 = pulp.LpVariable('Brown_Rice', lowBound=0, cat='Continuous')\n",
    "m1 = pulp.LpVariable('Chicken', lowBound=0, cat='Integer')\n",
    "m2 = pulp.LpVariable('Ground_Beef', lowBound=0, cat='Integer')\n",
    "m3 = pulp.LpVariable('Eggs', lowBound=0, cat='Integer')\n",
    "m4 = pulp.LpVariable('Whey', lowBound=0, cat='Integer')\n",
    "d1 = pulp.LpVariable('Orange', lowBound=0, cat='Integer')\n",
    "d2 = pulp.LpVariable('Apple', lowBound=0, cat='Integer')\n",
    "d3 = pulp.LpVariable('Beer', lowBound=0, cat='Integer')\n",
    "d4 = pulp.LpVariable('Cheese', lowBound=0, cat='Integer')\n",
    "d5 = pulp.LpVariable('Coke', lowBound=0, cat='Integer')\n",
    "d6 = pulp.LpVariable('Mixed_Nuts', lowBound=0, cat='Integer')\n",
    "d7 = pulp.LpVariable('Coconut_Oil', lowBound=0, cat='Integer')"
   ]
  },
  {
   "cell_type": "markdown",
   "metadata": {},
   "source": [
    "## Objective Function\n",
    "\n",
    ">    We Want To Minimize (Cost per Day)\n",
    ">\n",
    ">\\begin{align} Cost = 0.38v_1+0.27v_2+0.36v_3+0.24v_4+0.27v_5+0.77m_1+1.00m_2+0.13m_3+0.63m_4+0.88d_1+0.22d_2+0.83d_3+0.27d_4+0.36d_5+0.43d_6+0.10d_7\n",
    "\\end{align}\n",
    "\n"
   ]
  },
  {
   "cell_type": "markdown",
   "metadata": {},
   "source": [
    "## Constraints\n",
    "\\begin{align}\n",
    "\\end{align}\n",
    ">      Carbohydrates\n",
    ">\n",
    ">\\begin{align}\n",
    "4\\times(3v_1+4v_2+11v_3+18v_4+140v_5+0m_1+0m_2+0m_3+2m_4+15d_1+15d_2+7d_3+1d_4+0d_5+5d_6+0d_7) \\leq \\frac{Calories}{3}\\\\\n",
    "\\end{align}\n",
    "\n",
    ">      Protein \n",
    ">\n",
    ">\\begin{align}\n",
    "4\\times(1v_1+1v_2+2v_3+6v_4+16v_5+19m_1+22m_2+6m_3+24m_4+1d_1+0d_2+1d_3+7d_4+0d_5+6d_6+0d_7) = Goal\\_Weight\\times4\\\\\n",
    "\\end{align}\n",
    "\n",
    ">      Fat \n",
    ">\n",
    ">\\begin{align}\n",
    "9\\times(0v_1+0v_2+1v_3+3v_4+6v_5+8m_1+14m_2+5m_3+1m_4+0d_1+0d_2+0d_3+9d_4+0d_5+15d_6+14d_7) = \\frac{Calories}{3}\\\\\n",
    "\\end{align}\n",
    "\n",
    ">      Calories \n",
    ">\n",
    ">\\begin{align}\n",
    "20v_1+25v_2+60v_3+120v_4+640v_5+150m_1+210m_2+70m_3+110m_4+62d_1+63d_2+110d_3+111d_4+0d_5+170d_6+120d_7 = Calories\\\\\n",
    "\\end{align}\n",
    "\n",
    ">      At least one of each group\n",
    ">\n",
    ">\\begin{align}\n",
    "v_1+v_2+v_3+v_4+v_5 \\geq 1\\\\\n",
    "m_1+m_2+m_3+m_4 \\geq 1\\\\\n",
    "d_1+d_2+d_3+d_4+d_5+d_6+d_7 \\geq 1\\\\\n",
    "\\end{align}\n",
    "\n",
    ">      No more than 6 eggs per day\n",
    ">\n",
    ">\\begin{align}\n",
    "m_3\\leq 6\\\\\n",
    "\\end{align}\n",
    "\n",
    ">      Exactly 3 beers per day\n",
    ">\n",
    ">\\begin{align}\n",
    "d_3 = 3\\\\\n",
    "\\end{align}\n",
    "\n",
    ">      Exactly 3 diet sodas per day\n",
    ">\n",
    ">\\begin{align}\n",
    "d_5 = 3\\\\\n",
    "\\end{align}\n",
    "\n",
    ">      No more than 6 scoops of protein per day\n",
    ">\n",
    ">\\begin{align}\n",
    "m_4 \\leq 6\\\\\n",
    "\\end{align}"
   ]
  },
  {
   "cell_type": "markdown",
   "metadata": {},
   "source": [
    "## Add Python Constraints"
   ]
  },
  {
   "cell_type": "code",
   "execution_count": 3,
   "metadata": {},
   "outputs": [],
   "source": [
    "Calories=2000\n",
    "eps=Calories*.05\n",
    "Goal_Weight=170*0.8\n",
    "\n",
    "diet += 4*(carb['Green_Beans']*v1+carb['Broccoli']*v2+carb['Corn']*v3+carb['Refried_Beans']*v4 \\\n",
    "    +carb['Brown_Rice']*v5+carb['Chicken']*m1+carb['Ground_Beef']*m2+carb['Eggs']*m3 \\\n",
    "    +carb['Whey']*m4+carb['Orange']*d1+carb['Apple']*d2+carb['Beer']*d3+carb['Cheese']*d4 \\\n",
    "    +carb['Coke']*d5+carb['Mixed_Nuts']*d6+carb['Coconut_Oil']*d7) <= Calories/3\n",
    "diet += 4*(protein['Green_Beans']*v1+protein['Broccoli']*v2+protein['Corn']*v3+protein['Refried_Beans']*v4 \\\n",
    "    +protein['Brown_Rice']*v5+protein['Chicken']*m1+protein['Ground_Beef']*m2+protein['Eggs']*m3+protein['Whey']*m4 \\\n",
    "    +protein['Orange']*d1+protein['Apple']*d2+protein['Beer']*d3+protein['Cheese']*d4+protein['Coke']*d5 \\\n",
    "    +protein['Mixed_Nuts']*d6+protein['Coconut_Oil']*d7) <= Goal_Weight*4\n",
    "diet += 4*(protein['Green_Beans']*v1+protein['Broccoli']*v2+protein['Corn']*v3+protein['Refried_Beans']*v4 \\\n",
    "    +protein['Brown_Rice']*v5+protein['Chicken']*m1+protein['Ground_Beef']*m2+protein['Eggs']*m3+protein['Whey']*m4 \\\n",
    "    +protein['Orange']*d1+protein['Apple']*d2+protein['Beer']*d3+protein['Cheese']*d4+protein['Coke']*d5 \\\n",
    "    +protein['Mixed_Nuts']*d6+protein['Coconut_Oil']*d7) >= Goal_Weight*4   \n",
    "diet += 9*(fat['Green_Beans']*v1+fat['Broccoli']*v2+fat['Corn']*v3+fat['Refried_Beans']*v4+fat['Brown_Rice']*v5 \\\n",
    "    +fat['Chicken']*m1+fat['Ground_Beef']*m2+fat['Eggs']*m3+fat['Whey']*m4+fat['Orange']*d1+fat['Apple']*d2 \\\n",
    "    +fat['Beer']*d3+fat['Cheese']*d4+fat['Coke']*d5+fat['Mixed_Nuts']*d6+fat['Coconut_Oil']*d7) <= Calories/3\n",
    "diet += cal['Green_Beans']*v1+cal['Broccoli']*v2+cal['Corn']*v3+cal['Refried_Beans']*v4+cal['Brown_Rice']*v5 \\\n",
    "    +cal['Chicken']*m1+cal['Ground_Beef']*m2+cal['Eggs']*m3+cal['Whey']*m4+cal['Orange']*d1+cal['Apple']*d2 \\\n",
    "    +cal['Beer']*d3+cal['Cheese']*d4+cal['Coke']*d5+cal['Mixed_Nuts']*d6+cal['Coconut_Oil']*d7 <= Calories+eps\n",
    "diet += cal['Green_Beans']*v1+cal['Broccoli']*v2+cal['Corn']*v3+cal['Refried_Beans']*v4+cal['Brown_Rice']*v5 \\\n",
    "    +cal['Chicken']*m1+cal['Ground_Beef']*m2+cal['Eggs']*m3+cal['Whey']*m4+cal['Orange']*d1+cal['Apple']*d2 \\\n",
    "    +cal['Beer']*d3+cal['Cheese']*d4+cal['Coke']*d5+cal['Mixed_Nuts']*d6+cal['Coconut_Oil']*d7 >= Calories-eps\n",
    "\n",
    "#diet += v1+v2+v3+v4+v5 >= 1\n",
    "#diet += m1+m2+m3+m4 >= 1\n",
    "#diet += d1+d2+d3+d4+d5+d6 >= 1\n",
    "\n",
    "#diet += m3 <= 6  # Eggs\n",
    "diet += d3 <= 2  # Beer\n",
    "diet += d3 >= 2  # Beer\n",
    "#diet += d5 <= 3  # Soda\n",
    "#diet += d5 >= 3  # Soda \n",
    "#diet += m4 <= 6  # Whey"
   ]
  },
  {
   "cell_type": "markdown",
   "metadata": {},
   "source": [
    "## Now Define Our Objective Function"
   ]
  },
  {
   "cell_type": "code",
   "execution_count": 4,
   "metadata": {},
   "outputs": [],
   "source": [
    "diet += cost['Green_Beans']*v1+cost['Broccoli']*v2+cost['Corn']*v3+cost['Refried_Beans']*v4+cost['Brown_Rice']*v5 \\\n",
    "    +cost['Chicken']*m1+cost['Ground_Beef']*m2+cost['Eggs']*m3+cost['Whey']*m4+cost['Orange']*d1+cost['Apple']*d2 \\\n",
    "    +cost['Beer']*d3+cost['Cheese']*d4+cost['Coke']*d5+cost['Mixed_Nuts']*d6+cost['Coconut_Oil']*d7, \"Cost\""
   ]
  },
  {
   "cell_type": "markdown",
   "metadata": {},
   "source": [
    "## We can now solve this system of equations\n",
    "\n",
    "\\begin{equation*}\n",
    "A =  \\begin{vmatrix}\n",
    "3 & 1 & 5 & 5 & 35 & 0 & 0 & 0 & 2 & 15 & 15 & 7 & 1 & 0 & -\\frac{Calories}{3 \\times 4}\\\\\n",
    "1 & 0 & 1 & 2 & 4 & 19 & 22 & 6 & 24 & 1 & 0 & 1 & 7 & 0 & -\\frac{Calories}{3 \\times 4}\\\\\n",
    "-1 & 0 & -1 & -2 & -4 & -19 & -22 & -6 & -24 & -1 & 0 & -1 & -7 & 0 & \\frac{Calories}{3 \\times 4}\\\\\n",
    "0 & 0 & 0 & 1 & 2 & 8 & 14 & 5 & 1 & 0 & 0 & 0 & 9 & 0 & -\\frac{Calories}{3 \\times 9}\\\\\n",
    "20 & 4 & 23 & 30 & 160 & 150 & 210 & 70 & 110 & 62 & 63 & 110 & 111 & 0 & -Calories\\\\\n",
    "-20 & -4 & -23 & -30 & -160 & -150 & -210 & -70 & -110 & -62 & -63 & -110 & -111 & 0 & Calories\\\\\n",
    "-1 & 0 & 0 & 0 & 0 & 0 & 0 & 0 & 0 & 0 & 0 & 0 & 0 & 0 & 0\\\\\n",
    "0 & -1 & 0 & 0 & 0 & 0 & 0 & 0 & 0 & 0 & 0 & 0 & 0 & 0 & 0\\\\\n",
    "0 & 0 & -1 & 0 & 0 & 0 & 0 & 0 & 0 & 0 & 0 & 0 & 0 & 0 & 0\\\\\n",
    "0 & 0 & 0 & -1 & 0 & 0 & 0 & 0 & 0 & 0 & 0 & 0 & 0 & 0 & 0\\\\\n",
    "0 & 0 & 0 & 0 & -1 & 0 & 0 & 0 & 0 & 0 & 0 & 0 & 0 & 0 & 0\\\\\n",
    "0 & 0 & 0 & 0 & 0 & -1 & 0 & 0 & 0 & 0 & 0 & 0 & 0 & 0 & 0\\\\\n",
    "0 & 0 & 0 & 0 & 0 & 0 & -1 & 0 & 0 & 0 & 0 & 0 & 0 & 0 & 0\\\\\n",
    "0 & 0 & 0 & 0 & 0 & 0 & 0 & -1 & 0 & 0 & 0 & 0 & 0 & 0 & 0\\\\\n",
    "0 & 0 & 0 & 0 & 0 & 0 & 0 & 0 & -1 & 0 & 0 & 0 & 0 & 0 & 0\\\\\n",
    "0 & 0 & 0 & 0 & 0 & 0 & 0 & 0 & 0 & -1 & 0 & 0 & 0 & 0 & 0\\\\\n",
    "0 & 0 & 0 & 0 & 0 & 0 & 0 & 0 & 0 & 0 & -1 & 0 & 0 & 0 & 0\\\\\n",
    "0 & 0 & 0 & 0 & 0 & 0 & 0 & 0 & 0 & 0 & 0 & -1 & 0 & 0 & 0\\\\\n",
    "0 & 0 & 0 & 0 & 0 & 0 & 0 & 0 & 0 & 0 & 0 & 0 & -1 & 0 & 0\\\\\n",
    "0 & 0 & 0 & 0 & 0 & 0 & 0 & 0 & 0 & 0 & 0 & 0 & 0 & -1 & 0\\\\\n",
    "0.38 & 0.09 & 0.09 & 0.06 & 0.07 & 0.77 & 1.00 & 0.13 & 0.63 & 0.88 & 0.22 & 0.67 & 0.27 &0.36 & 1\\\\\n",
    "\\end{vmatrix}\n",
    "\\end{equation*}"
   ]
  },
  {
   "cell_type": "code",
   "execution_count": 5,
   "metadata": {},
   "outputs": [
    {
     "name": "stdout",
     "output_type": "stream",
     "text": [
      "Optimal\n"
     ]
    }
   ],
   "source": [
    "diet.solve()\n",
    "print(pulp.LpStatus[diet.status])"
   ]
  },
  {
   "cell_type": "markdown",
   "metadata": {},
   "source": [
    "# Results"
   ]
  },
  {
   "cell_type": "code",
   "execution_count": 6,
   "metadata": {},
   "outputs": [
    {
     "name": "stdout",
     "output_type": "stream",
     "text": [
      "\t1.0 x 1 apple of Apple\n",
      "\t2.0 x 12oz of Beer\n",
      "\t0.88 x 180g=1cup(dry) of Brown_Rice\n",
      "\t12.0 x 1 egg of Eggs\n",
      "\t2.0 x 1 scoop of Whey\n"
     ]
    }
   ],
   "source": [
    "for var in diet.variables():\n",
    "    if var.varValue > 0:\n",
    "        print(\"\\t\" + str(round(var.varValue,2)) + \" x \" + serv[str(var)] + \" of \" + var.name)      "
   ]
  },
  {
   "cell_type": "code",
   "execution_count": 7,
   "metadata": {},
   "outputs": [
    {
     "name": "stdout",
     "output_type": "stream",
     "text": [
      "\t156 grams of carbs for 622 calories\n",
      "\t136 grams of protein for 544 calories\n",
      "\t67 grams of fat for 605 calories\n",
      "\t1903 total calories\n"
     ]
    }
   ],
   "source": [
    "csum=psum=fsum=ccsum=cccsum=0\n",
    "for var in diet.variables():\n",
    "    csum += var.varValue * carb[str(var)]\n",
    "    psum += var.varValue * protein[str(var)]\n",
    "    fsum += var.varValue * fat[str(var)]\n",
    "    ccsum += var.varValue * cal[str(var)]\n",
    "    cccsum += var.varValue * cost[str(var)]\n",
    "\n",
    "print(\"\\t\" + str(round(csum)) + \" grams of carbs for \" + str(round(4*csum)) + \" calories\")\n",
    "print(\"\\t\" + str(round(psum)) + \" grams of protein for \" + str(round(4*psum)) + \" calories\")\n",
    "print(\"\\t\" + str(round(fsum)) + \" grams of fat for \" + str(round(9*fsum)) + \" calories\")\n",
    "print(\"\\t\" + str(round(ccsum)) + \" total calories\")"
   ]
  },
  {
   "cell_type": "code",
   "execution_count": 8,
   "metadata": {},
   "outputs": [
    {
     "name": "stdout",
     "output_type": "stream",
     "text": [
      "\tDaily Meal Cost $4.94\n"
     ]
    }
   ],
   "source": [
    "np.set_printoptions(precision=2)\n",
    "print(\"\\tDaily Meal Cost $\" + str(round(pulp.value(diet.objective),2)))\n",
    "\n"
   ]
  }
 ],
 "metadata": {
  "kernelspec": {
   "display_name": "Python 3",
   "language": "python",
   "name": "python3"
  },
  "language_info": {
   "codemirror_mode": {
    "name": "ipython",
    "version": 3
   },
   "file_extension": ".py",
   "mimetype": "text/x-python",
   "name": "python",
   "nbconvert_exporter": "python",
   "pygments_lexer": "ipython3",
   "version": "3.5.2"
  }
 },
 "nbformat": 4,
 "nbformat_minor": 2
}
