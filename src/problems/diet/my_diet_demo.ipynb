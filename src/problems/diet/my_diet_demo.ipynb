{
 "cells": [
  {
   "cell_type": "markdown",
   "metadata": {},
   "source": [
    "# Diet and Cost Minimization Calculator\n",
    ">    This calculator will minimize the cost given a set of food [variables] and constraints on those variables.  "
   ]
  },
  {
   "cell_type": "markdown",
   "metadata": {},
   "source": [
    "## Setup"
   ]
  },
  {
   "cell_type": "code",
   "execution_count": null,
   "metadata": {},
   "outputs": [],
   "source": [
    "import numpy as np\n",
    "import matplotlib.pyplot as pp\n",
    "import pandas as pd\n",
    "import pulp\n",
    "from IPython.display import display, HTML"
   ]
  },
  {
   "cell_type": "markdown",
   "metadata": {},
   "source": [
    "## Table of Available Foods:"
   ]
  },
  {
   "cell_type": "code",
   "execution_count": null,
   "metadata": {},
   "outputs": [],
   "source": [
    "groceries = pd.read_csv('groceries.csv')\n",
    "display(groceries,)"
   ]
  },
  {
   "cell_type": "markdown",
   "metadata": {},
   "source": [
    "                    https://www.tablesgenerator.com/html_tables#\n",
    "            https://pythonhosted.org/PuLP/CaseStudies/a_blending_problem.html"
   ]
  },
  {
   "cell_type": "markdown",
   "metadata": {},
   "source": [
    ">   We are going to use the above table, nutrition values, cost and Python to minimize cost given our constraints"
   ]
  },
  {
   "cell_type": "markdown",
   "metadata": {},
   "source": [
    "## Read the dataframe columns into python dictionaries"
   ]
  },
  {
   "cell_type": "code",
   "execution_count": null,
   "metadata": {},
   "outputs": [],
   "source": [
    "items=groceries['Items'].values\n",
    "carbs=groceries.set_index('Items').drop(['Protein','Fat','Calories','Serving','Cost','Cat','Description'],axis=1).to_dict()\n",
    "protein=groceries.set_index('Items').drop(['Carbohydrates','Fat','Calories','Serving','Cost','Cat','Description'],axis=1).to_dict()\n",
    "fat=groceries.set_index('Items').drop(['Carbohydrates','Protein','Calories','Serving','Cost','Cat','Description'],axis=1).to_dict()\n",
    "cal=groceries.set_index('Items').drop(['Carbohydrates','Protein','Fat','Serving','Cost','Cat','Description'],axis=1).to_dict()\n",
    "serv=groceries.set_index('Items').drop(['Carbohydrates','Protein','Fat','Calories','Cost','Cat','Description'],axis=1).to_dict()\n",
    "cost=groceries.set_index('Items').drop(['Carbohydrates','Protein','Calories','Serving','Fat','Cat','Description'],axis=1).to_dict()\n",
    "category=groceries.set_index('Items').drop(['Carbohydrates','Protein','Calories','Serving','Fat','Description','Cost'],axis=1).to_dict()\n",
    "description=groceries.set_index('Items').drop(['Carbohydrates','Protein','Calories','Serving','Fat','Cat','Cost'],axis=1).to_dict()"
   ]
  },
  {
   "cell_type": "markdown",
   "metadata": {},
   "source": [
    "## Define the pulp problem set"
   ]
  },
  {
   "cell_type": "code",
   "execution_count": null,
   "metadata": {},
   "outputs": [],
   "source": [
    "# Create the 'diet' variable to contain the problem data\n",
    "diet = pulp.LpProblem(\"Minimize Cost\", pulp.LpMinimize)\n",
    "\n",
    "# A dictionary called 'item_vars' is created to contain the referenced Variables\n",
    "item_vars= pulp.LpVariable.dict('Items',items,lowBound=0,cat='Integer')\n",
    "for i in category['Cat']:\n",
    "    item_vars[i].cat=category['Cat'][i]\n",
    "\n",
    "# The objective function is added to 'diet' first\n",
    "diet += pulp.lpSum([cost['Cost'][i]*item_vars[i] for i in items]), \"Cost\""
   ]
  },
  {
   "cell_type": "markdown",
   "metadata": {},
   "source": [
    "## Secondary Constraints"
   ]
  },
  {
   "cell_type": "code",
   "execution_count": null,
   "metadata": {},
   "outputs": [],
   "source": [
    "Calories=2000\n",
    "eps=Calories*.0\n",
    "Goal_Weight=180\n",
    "\n",
    "\n",
    "# Inclusive constraints\n",
    "diet += item_vars['Eggs'] <= 6\n",
    "diet += item_vars['Turkey_Bacon'] >= 2\n",
    "\n",
    "diet += item_vars['Tuna'] >= 2\n",
    "diet += item_vars['Tuna'] <= 2\n",
    "diet += item_vars['Mayonnaise'] >= 1\n",
    "diet += item_vars['Bread'] >= 4\n",
    "diet += item_vars['Bread'] <= 4\n",
    "\n",
    "diet += item_vars['Ground_Beef'] >= 1  \n",
    "diet += item_vars['Pasta_Sauce'] >= 1  \n",
    "diet += item_vars['Elbow_Pasta'] >= 1 \n",
    "\n",
    "# Exclusive constraints\n",
    "diet += item_vars['Greek_Yogurt'] <= 0\n",
    "diet += item_vars['Brown_Rice'] <= 0\n",
    "\"\"\" \n",
    "diet += item_vars['Mayonnaise'] <= 0\n",
    "\n",
    "diet += item_vars['Greek_Yogurt'] <= 0\"\"\"\n",
    "\n"
   ]
  },
  {
   "cell_type": "markdown",
   "metadata": {},
   "source": [
    "## Primary Constraints"
   ]
  },
  {
   "cell_type": "code",
   "execution_count": null,
   "metadata": {},
   "outputs": [],
   "source": [
    "# The six constraints are added to 'diet'\n",
    "diet += pulp.lpSum([protein['Protein'][i] * item_vars[i] for i in items]) <= Goal_Weight, \"lowProteinRequirement\"\n",
    "diet += pulp.lpSum([protein['Protein'][i] * item_vars[i] for i in items]) >= Goal_Weight, \"highProteinRequirement\"\n",
    "diet += 4*pulp.lpSum([carbs['Carbohydrates'][i] * item_vars[i] for i in items]) <= Calories, \"CarbohydrateRequirement\"\n",
    "diet += 9*pulp.lpSum([fat['Fat'][i] * item_vars[i] for i in items]) <= Calories, \"FatRequirement\"\n",
    "\n",
    "# Total Calories\n",
    "diet += pulp.lpSum([cal['Calories'][i] * item_vars[i] for i in items]) <= Calories+eps, \"lowCalorieRequirement\"\n",
    "diet += pulp.lpSum([cal['Calories'][i] * item_vars[i] for i in items]) >= Calories-eps, \"HighCalorieRequirement\""
   ]
  },
  {
   "cell_type": "markdown",
   "metadata": {},
   "source": [
    "## Solve The System"
   ]
  },
  {
   "cell_type": "code",
   "execution_count": null,
   "metadata": {},
   "outputs": [],
   "source": [
    "diet.solve()\n",
    "print(pulp.LpStatus[diet.status])"
   ]
  },
  {
   "cell_type": "markdown",
   "metadata": {},
   "source": [
    "# ------Results-------"
   ]
  },
  {
   "cell_type": "markdown",
   "metadata": {},
   "source": [
    "## Cost"
   ]
  },
  {
   "cell_type": "code",
   "execution_count": null,
   "metadata": {},
   "outputs": [],
   "source": [
    "np.set_printoptions(precision=2)\n",
    "print(\"\\tDaily Meal Cost $\" + str(round(pulp.value(diet.objective),2)))\n",
    "\n"
   ]
  },
  {
   "cell_type": "markdown",
   "metadata": {},
   "source": [
    "## Macro Breakdown"
   ]
  },
  {
   "cell_type": "code",
   "execution_count": null,
   "metadata": {},
   "outputs": [],
   "source": [
    "csum=psum=fsum=ccsum=cccsum=0\n",
    "for var in diet.variables():\n",
    "    csum += var.varValue * carbs['Carbohydrates'][str(var)[6:]]\n",
    "    psum += var.varValue * protein['Protein'][str(var)[6:]]\n",
    "    fsum += var.varValue * fat['Fat'][str(var)[6:]]\n",
    "    ccsum += var.varValue * cal['Calories'][str(var)[6:]]\n",
    "    cccsum += var.varValue * cost['Cost'][str(var)[6:]]\n",
    "\n",
    "print(\"\\t\" + str(round(csum)) + \" grams of carbs for \" + str(round(4*csum)) + \" calories\")\n",
    "print(\"\\t\" + str(round(psum)) + \" grams of protein for \" + str(round(4*psum)) + \" calories\")\n",
    "print(\"\\t\" + str(round(fsum)) + \" grams of fat for \" + str(round(9*fsum)) + \" calories\")\n",
    "print(\"\\t\" + str(round(ccsum)) + \" total calories\")"
   ]
  },
  {
   "cell_type": "markdown",
   "metadata": {},
   "source": [
    "## Menu"
   ]
  },
  {
   "cell_type": "code",
   "execution_count": null,
   "metadata": {},
   "outputs": [],
   "source": [
    "namesData=[]\n",
    "carbsData=[]\n",
    "proteinData=[]\n",
    "fatData=[]\n",
    "calData=[]\n",
    "costData=[]\n",
    "\n",
    "for var in diet.variables():\n",
    "    if var.varValue > 0:\n",
    "        print(\"\\t\" + str(round(var.varValue,2)) + \" x \" + serv['Serving'][str(var)[6:]] + \" of \" + var.name[6:])\n",
    "        namesData.append(str(var)[6:])\n",
    "        carbsData.append(round(var.varValue*carbs['Carbohydrates'][str(var)[6:]],2))\n",
    "        proteinData.append(round(var.varValue*protein['Protein'][str(var)[6:]],2))\n",
    "        fatData.append(round(var.varValue*fat['Fat'][str(var)[6:]],2))\n",
    "        calData.append(round(var.varValue*cal['Calories'][str(var)[6:]],2))\n",
    "        costData.append(round(var.varValue*cost['Cost'][str(var)[6:]],2))\n"
   ]
  },
  {
   "cell_type": "markdown",
   "metadata": {},
   "source": [
    "## Plot the Data"
   ]
  },
  {
   "cell_type": "code",
   "execution_count": null,
   "metadata": {},
   "outputs": [],
   "source": [
    "def func(pct, allvals):\n",
    "    absolute = int(pct/100.*np.sum(allvals))\n",
    "    return \"{:.1f}%\\n({:d} g)\".format(pct, absolute)\n",
    "\n",
    "def func1(pct, allvals):\n",
    "    absolute = pct/100.*np.sum(allvals)\n",
    "    return \"{:.1f}%\\n(${:.2f})\".format(pct, absolute)\n",
    "\n",
    "def func2(pct, allvals):\n",
    "    absolute = int(pct/100.*np.sum(allvals))\n",
    "    return \"{:.1f}%\\n({:d} calories)\".format(pct, absolute)\n",
    "\n",
    "def doColors(autotexts):\n",
    "    for autotexts in autotexts:\n",
    "        autotexts.set_color('black')\n",
    "        #autotexts.size=15\n",
    "        #autotexts.weight='bold'\n",
    "\n",
    "\n",
    "explodeVal=0.05\n",
    "autoWeightVal='normal'\n",
    "labelVal='black'\n",
    "autoTxtVal=12\n",
    "titleVal=25\n",
    "titleWeightVal='bold'\n",
    "titleColor='black'\n",
    "startAngleVal=15\n",
    "        \n",
    "print('\\n\\n')\n",
    "pp.subplot(5,1,1)\n",
    "pp.rcParams['text.color'] = labelVal\n",
    "pp.title(\"Carbs\",fontsize=titleVal,weight=titleWeightVal,color=titleColor);\n",
    "explode = np.zeros(len(namesData))\n",
    "explode[list(carbsData).index(np.max(carbsData))] = explodeVal\n",
    "_,_,autotexts=pp.pie(carbsData,explode=explode,labels=namesData, autopct=lambda pct: func(pct, carbsData),shadow=True, \\\n",
    "    startangle=startAngleVal,pctdistance=.7,wedgeprops={'linewidth': 2, 'linestyle': 'solid', 'antialiased': True})\n",
    "doColors(autotexts)\n",
    "pp.setp(autotexts,size=autoTxtVal,weight=autoWeightVal)\n",
    "\n",
    "pp.subplot(5,1,2) \n",
    "pp.rcParams['text.color'] = labelVal\n",
    "pp.title(\"Protein\",fontsize=titleVal,weight=titleWeightVal,color=titleColor);\n",
    "explode = np.zeros(len(namesData))\n",
    "explode[list(proteinData).index(np.max(proteinData))] = explodeVal\n",
    "_,_,autotexts=pp.pie(proteinData,explode=explode,labels=namesData, autopct=lambda pct: func(pct, proteinData),shadow=True, \\\n",
    "    startangle=startAngleVal,pctdistance=.7,wedgeprops={'linewidth': 2, 'linestyle': 'solid', 'antialiased': True})\n",
    "doColors(autotexts)\n",
    "pp.setp(autotexts,size=autoTxtVal,weight=autoWeightVal)\n",
    " \n",
    "pp.subplot(5,1,3) \n",
    "pp.rcParams['text.color'] = labelVal \n",
    "pp.title(\"Fat\",fontsize=titleVal,weight=titleWeightVal,color=titleColor);\n",
    "explode = np.zeros(len(namesData))\n",
    "explode[list(fatData).index(np.max(fatData))] = explodeVal\n",
    "_,_,autotexts=pp.pie(fatData,explode=explode,labels=namesData, autopct=lambda pct: func(pct, fatData),shadow=True, \\\n",
    "    startangle=startAngleVal,pctdistance=.7,wedgeprops={'linewidth': 2, 'linestyle': 'solid', 'antialiased': True})\n",
    "doColors(autotexts)\n",
    "pp.setp(autotexts,size=autoTxtVal,weight=autoWeightVal)\n",
    "\n",
    "pp.subplot(5,1,4) \n",
    "pp.rcParams['text.color'] = labelVal\n",
    "pp.title(\"Calories\",fontsize=titleVal,weight=titleWeightVal,color=titleColor);\n",
    "explode = np.zeros(len(namesData))\n",
    "explode[list(calData).index(np.max(calData))] = explodeVal\n",
    "_,_,autotexts=pp.pie(calData,explode=explode,labels=namesData, autopct=lambda pct: func2(pct, calData),shadow=True, \\\n",
    "    startangle=startAngleVal,pctdistance=.7,wedgeprops={'linewidth': 2, 'linestyle': 'solid', 'antialiased': True})\n",
    "doColors(autotexts)\n",
    "pp.setp(autotexts,size=autoTxtVal,weight=autoWeightVal)\n",
    "\n",
    "pp.subplot(5,1,5)\n",
    "pp.rcParams['text.color'] = labelVal\n",
    "pp.title(\"Cost\",fontsize=titleVal,weight=titleWeightVal,color=titleColor);\n",
    "explode = np.zeros(len(namesData))\n",
    "explode[list(costData).index(np.max(costData))] = explodeVal\n",
    "_,_,autotexts=pp.pie(costData,explode=explode,labels=namesData, autopct=lambda pct: func1(pct, costData),shadow=True, \\\n",
    "    startangle=startAngleVal,pctdistance=.7,wedgeprops={'linewidth': 2, 'linestyle': 'solid', 'antialiased': True})\n",
    "doColors(autotexts)\n",
    "pp.setp(autotexts,size=autoTxtVal,weight=autoWeightVal)\n",
    "\n",
    "fig=pp.gcf()\n",
    "fig.set_size_inches(50,50)\n",
    "\n",
    "pp.show()"
   ]
  }
 ],
 "metadata": {
  "kernelspec": {
   "display_name": "Python 3",
   "language": "python",
   "name": "python3"
  },
  "language_info": {
   "codemirror_mode": {
    "name": "ipython",
    "version": 3
   },
   "file_extension": ".py",
   "mimetype": "text/x-python",
   "name": "python",
   "nbconvert_exporter": "python",
   "pygments_lexer": "ipython3",
   "version": "3.7.1"
  }
 },
 "nbformat": 4,
 "nbformat_minor": 2
}
