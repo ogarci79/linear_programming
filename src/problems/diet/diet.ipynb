{
 "cells": [
  {
   "cell_type": "raw",
   "metadata": {},
   "source": [
    "As part of your weight training regimen, you want to\n",
    "consume lean sources of protein.  You want to\n",
    "consume at least 300 Calories a day from at least 48\n",
    "grams of protein.  One ounce of chicken provides 35\n",
    "Calories and 8.5 g of protein.  One ounce of tofu\n",
    "provides 20 Calories and 2.5 g of protein.  Your local\n",
    "supermarket charges $5 a pound for chicken and \n",
    "$2.50 a pound of tofu.  How much of each food \n",
    "should you eat each day if you want to meet your\n",
    "requirements with the lowest cost?  What is this daily\n",
    "cost?\n",
    "\n",
    "c = # of lbs of chicken\n",
    "t = # of libs of tofu\n",
    "\n",
    "Price Paid\n",
    "P = 5c + 2.50t\n",
    "\n",
    "c >= 0\n",
    "t >= 0\n",
    "560c + 320t >= 300\n",
    "136c + 40t >= 48\n"
   ]
  },
  {
   "cell_type": "code",
   "execution_count": 1,
   "metadata": {},
   "outputs": [
    {
     "ename": "ModuleNotFoundError",
     "evalue": "No module named 'pulp'",
     "output_type": "error",
     "traceback": [
      "\u001b[0;31m---------------------------------------------------------------------------\u001b[0m",
      "\u001b[0;31mModuleNotFoundError\u001b[0m                       Traceback (most recent call last)",
      "Input \u001b[0;32mIn [1]\u001b[0m, in \u001b[0;36m<module>\u001b[0;34m\u001b[0m\n\u001b[1;32m      1\u001b[0m \u001b[38;5;28;01mimport\u001b[39;00m \u001b[38;5;21;01mnumpy\u001b[39;00m \u001b[38;5;28;01mas\u001b[39;00m \u001b[38;5;21;01mnp\u001b[39;00m\n\u001b[0;32m----> 2\u001b[0m \u001b[38;5;28;01mimport\u001b[39;00m \u001b[38;5;21;01mpulp\u001b[39;00m\n\u001b[1;32m      3\u001b[0m get_ipython()\u001b[38;5;241m.\u001b[39mrun_line_magic(\u001b[38;5;124m'\u001b[39m\u001b[38;5;124mmatplotlib\u001b[39m\u001b[38;5;124m'\u001b[39m, \u001b[38;5;124m'\u001b[39m\u001b[38;5;124minline\u001b[39m\u001b[38;5;124m'\u001b[39m)\n\u001b[1;32m      4\u001b[0m \u001b[38;5;28;01mimport\u001b[39;00m \u001b[38;5;21;01mmatplotlib\u001b[39;00m\u001b[38;5;21;01m.\u001b[39;00m\u001b[38;5;21;01mpyplot\u001b[39;00m \u001b[38;5;28;01mas\u001b[39;00m \u001b[38;5;21;01mplt\u001b[39;00m\n",
      "\u001b[0;31mModuleNotFoundError\u001b[0m: No module named 'pulp'"
     ]
    }
   ],
   "source": [
    "import numpy as np\n",
    "import pulp\n",
    "%matplotlib inline\n",
    "import matplotlib.pyplot as plt\n",
    "\n",
    "diet = pulp.LpProblem(\"Diet\", pulp.LpMinimize)\n",
    "\n",
    "c = pulp.LpVariable('c', lowBound=0, cat='Continuous')\n",
    "t = pulp.LpVariable('t', lowBound=0, cat='Continuous')"
   ]
  },
  {
   "cell_type": "code",
   "execution_count": null,
   "metadata": {},
   "outputs": [],
   "source": [
    "# Objective Function\n",
    "diet += 5*c + 2.50*t, \"P\"\n",
    "\n",
    "# Constraints\n",
    "diet += 560*c + 320*t >= 300\n",
    "diet += 136*c + 40*t >= 48"
   ]
  },
  {
   "cell_type": "code",
   "execution_count": null,
   "metadata": {},
   "outputs": [],
   "source": [
    "print(diet)"
   ]
  },
  {
   "cell_type": "code",
   "execution_count": null,
   "metadata": {},
   "outputs": [],
   "source": [
    "# Construct lines\n",
    "# t >= 0\n",
    "x = np.linspace(0, 5, 500)\n",
    "c1 = x*0\n",
    "t1 = x*0\n",
    "# t + b <= 20\n",
    "y1 = -560/320*x + 300/320\n",
    "# t + b <= 20\n",
    "y2 = -136/40*x + 48/40\n",
    "\n",
    "\n",
    "# Make plot\n",
    "plt.plot(x, c1, label=r'$t\\geq3$')\n",
    "plt.plot(t1, x, label=r'$t\\leq8$')\n",
    "plt.plot(x, y1, label=r'$b \\geq 0$')\n",
    "plt.plot(x, y2, label=r'$t + b \\leq 20$')\n",
    "plt.xlim((-.05, 1))\n",
    "plt.ylim((-.05, 1.3))\n",
    "plt.xlabel(r'$t$')\n",
    "plt.ylabel(r'$b$')\n",
    "\n",
    "# Fill feasible region\n",
    "y3 = np.maximum(y1,y2)\n",
    "plt.fill_between(x, y3, 100, color='grey', alpha=0.5)\n",
    "plt.legend(bbox_to_anchor=(1.05, 1), loc=2, borderaxespad=0.)"
   ]
  },
  {
   "cell_type": "code",
   "execution_count": null,
   "metadata": {},
   "outputs": [],
   "source": [
    "diet.solve()\n",
    "print(pulp.LpStatus[diet.status])"
   ]
  },
  {
   "cell_type": "code",
   "execution_count": null,
   "metadata": {},
   "outputs": [],
   "source": [
    "for var in diet.variables():\n",
    "    print(var.name + \" = \" + str(var.varValue))"
   ]
  },
  {
   "cell_type": "code",
   "execution_count": null,
   "metadata": {},
   "outputs": [],
   "source": [
    "print(pulp.value(diet.objective))"
   ]
  }
 ],
 "metadata": {
  "kernelspec": {
   "display_name": "Python 3 (ipykernel)",
   "language": "python",
   "name": "python3"
  },
  "language_info": {
   "codemirror_mode": {
    "name": "ipython",
    "version": 3
   },
   "file_extension": ".py",
   "mimetype": "text/x-python",
   "name": "python",
   "nbconvert_exporter": "python",
   "pygments_lexer": "ipython3",
   "version": "3.8.10"
  }
 },
 "nbformat": 4,
 "nbformat_minor": 2
}
