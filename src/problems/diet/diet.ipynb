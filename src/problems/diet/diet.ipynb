{
 "cells": [
  {
   "cell_type": "raw",
   "metadata": {},
   "source": [
    "As part of your weight training regimen, you want to\n",
    "consume lean sources of protein.  You want to\n",
    "consume at least 300 Calories a day from at least 48\n",
    "grams of protein.  One ounce of chicken provides 35\n",
    "Calories and 8.5 g of protein.  One ounce of tofu\n",
    "provides 20 Calories and 2.5 g of protein.  Your local\n",
    "supermarket charges $5 a pound for chicken and \n",
    "$2.50 a pound of tofu.  How much of each food \n",
    "should you eat each day if you want to meet your\n",
    "requirements with the lowest cost?  What is this daily\n",
    "cost?\n",
    "\n",
    "c = # of lbs of chicken\n",
    "t = # of libs of tofu\n",
    "\n",
    "Price Paid\n",
    "P = 5c + 2.50t\n",
    "\n",
    "c >= 0\n",
    "t >= 0\n",
    "560c + 320t >= 300\n",
    "136c + 40t >= 48\n"
   ]
  },
  {
   "cell_type": "code",
   "execution_count": 1,
   "metadata": {},
   "outputs": [],
   "source": [
    "import numpy as np\n",
    "import pulp\n",
    "%matplotlib inline\n",
    "import matplotlib.pyplot as plt\n",
    "\n",
    "diet = pulp.LpProblem(\"Diet\", pulp.LpMinimize)\n",
    "\n",
    "c = pulp.LpVariable('c', lowBound=0, cat='Continuous')\n",
    "t = pulp.LpVariable('t', lowBound=0, cat='Continuous')"
   ]
  },
  {
   "cell_type": "code",
   "execution_count": 2,
   "metadata": {},
   "outputs": [],
   "source": [
    "# Objective Function\n",
    "diet += 5*c + 2.50*t, \"P\"\n",
    "\n",
    "# Constraints\n",
    "diet += 560*c + 320*t >= 300\n",
    "diet += 136*c + 40*t >= 48"
   ]
  },
  {
   "cell_type": "code",
   "execution_count": 3,
   "metadata": {},
   "outputs": [
    {
     "name": "stdout",
     "output_type": "stream",
     "text": [
      "Diet:\n",
      "MINIMIZE\n",
      "5*c + 2.5*t + 0.0\n",
      "SUBJECT TO\n",
      "_C1: 560 c + 320 t >= 300\n",
      "\n",
      "_C2: 136 c + 40 t >= 48\n",
      "\n",
      "VARIABLES\n",
      "c Continuous\n",
      "t Continuous\n",
      "\n"
     ]
    }
   ],
   "source": [
    "print(diet)"
   ]
  },
  {
   "cell_type": "code",
   "execution_count": 4,
   "metadata": {},
   "outputs": [
    {
     "data": {
      "text/plain": [
       "<matplotlib.legend.Legend at 0x7fda7966b588>"
      ]
     },
     "execution_count": 4,
     "metadata": {},
     "output_type": "execute_result"
    },
    {
     "data": {
      "image/png": "[encoded data removed]",
      "text/plain": [
       "<Figure size 432x288 with 1 Axes>"
      ]
     },
     "metadata": {
      "needs_background": "light"
     },
     "output_type": "display_data"
    }
   ],
   "source": [
    "# Construct lines\n",
    "# t >= 0\n",
    "x = np.linspace(0, 5, 500)\n",
    "c1 = x*0\n",
    "t1 = x*0\n",
    "# t + b <= 20\n",
    "y1 = -560/320*x + 300/320\n",
    "# t + b <= 20\n",
    "y2 = -136/40*x + 48/40\n",
    "\n",
    "\n",
    "# Make plot\n",
    "plt.plot(x, c1, label=r'$t\\geq3$')\n",
    "plt.plot(t1, x, label=r'$t\\leq8$')\n",
    "plt.plot(x, y1, label=r'$b \\geq 0$')\n",
    "plt.plot(x, y2, label=r'$t + b \\leq 20$')\n",
    "plt.xlim((-.05, 1))\n",
    "plt.ylim((-.05, 1.3))\n",
    "plt.xlabel(r'$t$')\n",
    "plt.ylabel(r'$b$')\n",
    "\n",
    "# Fill feasible region\n",
    "y3 = np.maximum(y1,y2)\n",
    "plt.fill_between(x, y3, 100, color='grey', alpha=0.5)\n",
    "plt.legend(bbox_to_anchor=(1.05, 1), loc=2, borderaxespad=0.)"
   ]
  },
  {
   "cell_type": "code",
   "execution_count": 5,
   "metadata": {},
   "outputs": [
    {
     "name": "stdout",
     "output_type": "stream",
     "text": [
      "Optimal\n"
     ]
    }
   ],
   "source": [
    "diet.solve()\n",
    "print(pulp.LpStatus[diet.status])"
   ]
  },
  {
   "cell_type": "code",
   "execution_count": 6,
   "metadata": {},
   "outputs": [
    {
     "name": "stdout",
     "output_type": "stream",
     "text": [
      "c = 0.15909091\n",
      "t = 0.65909091\n"
     ]
    }
   ],
   "source": [
    "for var in diet.variables():\n",
    "    print(var.name + \" = \" + str(var.varValue))"
   ]
  },
  {
   "cell_type": "code",
   "execution_count": 7,
   "metadata": {},
   "outputs": [
    {
     "name": "stdout",
     "output_type": "stream",
     "text": [
      "2.443181825\n"
     ]
    }
   ],
   "source": [
    "print(pulp.value(diet.objective))"
   ]
  }
 ],
 "metadata": {
  "kernelspec": {
   "display_name": "Python 3",
   "language": "python",
   "name": "python3"
  },
  "language_info": {
   "codemirror_mode": {
    "name": "ipython",
    "version": 3
   },
   "file_extension": ".py",
   "mimetype": "text/x-python",
   "name": "python",
   "nbconvert_exporter": "python",
   "pygments_lexer": "ipython3",
   "version": "3.5.2"
  }
 },
 "nbformat": 4,
 "nbformat_minor": 2
}
